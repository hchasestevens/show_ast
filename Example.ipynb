{
 "cells": [
  {
   "cell_type": "code",
   "execution_count": null,
   "metadata": {
    "collapsed": false
   },
   "outputs": [],
   "source": [
    "import showast"
   ]
  },
  {
   "cell_type": "code",
   "execution_count": null,
   "metadata": {
    "collapsed": false
   },
   "outputs": [],
   "source": [
    "%%showast\n",
    "assert 1 + 2, \"NOOP because 1 + 2 is truthy\""
   ]
  },
  {
   "cell_type": "code",
   "execution_count": null,
   "metadata": {
    "collapsed": false
   },
   "outputs": [],
   "source": [
    "%%showast\n",
    "a = 1\n",
    "b = a + 2\n",
    "b /= 2."
   ]
  },
  {
   "cell_type": "code",
   "execution_count": null,
   "metadata": {
    "collapsed": false
   },
   "outputs": [],
   "source": [
    "%%showast\n",
    "x.y.z().t"
   ]
  },
  {
   "cell_type": "code",
   "execution_count": null,
   "metadata": {
    "collapsed": false
   },
   "outputs": [],
   "source": [
    "%%showast\n",
    "def abc():\n",
    "    for x in 'abc':\n",
    "        print(x)\n",
    "    return 0"
   ]
  },
  {
   "cell_type": "code",
   "execution_count": null,
   "metadata": {
    "collapsed": false
   },
   "outputs": [],
   "source": [
    "%%showast\n",
    "a, b = [x for x in y if x.z]"
   ]
  },
  {
   "cell_type": "code",
   "execution_count": null,
   "metadata": {
    "collapsed": false
   },
   "outputs": [],
   "source": [
    "%%showast\n",
    "@decorator()\n",
    "def decorated():\n",
    "    import time\n",
    "    yield time.time()"
   ]
  },
  {
   "cell_type": "code",
   "execution_count": null,
   "metadata": {
    "collapsed": false
   },
   "outputs": [],
   "source": [
    "# showast can also be used to visualize inspectable objects\n",
    "\n",
    "from showast import show_source\n",
    "\n",
    "import antigravity\n",
    "show_source(antigravity)"
   ]
  },
  {
   "cell_type": "code",
   "execution_count": null,
   "metadata": {
    "collapsed": false
   },
   "outputs": [],
   "source": [
    "import random\n",
    "show_source(random.choice)"
   ]
  },
  {
   "cell_type": "code",
   "execution_count": null,
   "metadata": {
    "collapsed": false
   },
   "outputs": [],
   "source": [
    "import contextlib\n",
    "show_source(contextlib.closing.__enter__)\n",
    "show_source(contextlib.closing.__exit__)"
   ]
  },
  {
   "cell_type": "code",
   "execution_count": null,
   "metadata": {
    "collapsed": true
   },
   "outputs": [],
   "source": [
    "# styling options can also be set\n",
    "\n",
    "from showast import Settings\n",
    "Settings['font'] = 'Century'\n",
    "Settings['shape'] = 'oval'\n",
    "Settings['nonterminal_color'] = '#7733AA'"
   ]
  },
  {
   "cell_type": "code",
   "execution_count": null,
   "metadata": {
    "collapsed": false
   },
   "outputs": [],
   "source": [
    "%%showast\n",
    "def add(x, y):\n",
    "    return x + y"
   ]
  },
  {
   "cell_type": "code",
   "execution_count": null,
   "metadata": {
    "collapsed": false
   },
   "outputs": [],
   "source": [
    "# nltk and pillow can be used as an alternate rendering engine\n",
    "\n",
    "from showast import Renderers\n",
    "Settings['renderer'] = Renderers.nltk\n",
    "\n",
    "# reset styling:\n",
    "Settings['font'] = 'courier'\n",
    "Settings['shape'] = 'none'\n",
    "Settings['nonterminal_color'] = '#004080'"
   ]
  },
  {
   "cell_type": "code",
   "execution_count": null,
   "metadata": {
    "collapsed": false
   },
   "outputs": [],
   "source": [
    "%%showast\n",
    "while b != 0:\n",
    "    if a > b:\n",
    "        a = a - b\n",
    "    else:\n",
    "        b = b - a\n",
    "print(a)"
   ]
  },
  {
   "cell_type": "markdown",
   "metadata": {},
   "source": [
    "## Showing AST from a String Literal"
   ]
  },
  {
   "cell_type": "code",
   "execution_count": null,
   "metadata": {},
   "outputs": [],
   "source": [
    "from showast import show_text\n",
    "\n",
    "show_text(\"\"\"def add(x, y):\n",
    "    return x + y\"\"\")"
   ]
  },
  {
   "cell_type": "markdown",
   "metadata": {},
   "source": [
    "## Showing Source Column and Line Locations for Each Node"
   ]
  },
  {
   "cell_type": "code",
   "execution_count": null,
   "metadata": {},
   "outputs": [],
   "source": [
    "# revert to the default settings, except that `omit_location_info` is set False\n",
    "\n",
    "Settings.update(\n",
    "    # Styling options:\n",
    "    scale=2,\n",
    "    font='courier',\n",
    "    shape='none',\n",
    "    terminal_color='#008040',\n",
    "    nonterminal_color='#004080',\n",
    "\n",
    "    # AST display options:\n",
    "    omit_module=True,\n",
    "    omit_docstrings=True,\n",
    "\n",
    "    # By default omit_location_info is True\n",
    "    omit_location_info=False,\n",
    "    locations_format=\"L{begin[0]}:{begin[1]}-L{end[0]}:{end[1]}\",\n",
    "\n",
    "    # Rendering engine is expected to expose \"render\" function\n",
    "    renderer=Renderers.graphviz,\n",
    ")\n"
   ]
  },
  {
   "cell_type": "code",
   "execution_count": null,
   "metadata": {},
   "outputs": [],
   "source": [
    "%%showast\n",
    "def add(x, y):\n",
    "    return x + y"
   ]
  },
  {
   "cell_type": "markdown",
   "metadata": {},
   "source": [
    "## Showing the `uparse`d Source"
   ]
  },
  {
   "cell_type": "code",
   "execution_count": null,
   "metadata": {},
   "outputs": [],
   "source": [
    "Settings.update(\n",
    "    # Styling options:\n",
    "    scale=2,\n",
    "    font='courier',\n",
    "    shape='none',\n",
    "    terminal_color='#008040',\n",
    "    nonterminal_color='#004080',\n",
    "\n",
    "    # AST display options:\n",
    "    omit_module=True,\n",
    "    omit_docstrings=True,\n",
    "\n",
    "    omit_location_info=True,\n",
    "    locations_format=\"L{begin[0]}:{begin[1]}-L{end[0]}:{end[1]}\",\n",
    "    # By default omit_source is True. Set to False in order to display source.\n",
    "    omit_source=False,\n",
    "\n",
    "    # Rendering engine is expected to expose \"render\" function\n",
    "    renderer=Renderers.graphviz,\n",
    ")"
   ]
  },
  {
   "cell_type": "code",
   "execution_count": null,
   "metadata": {},
   "outputs": [],
   "source": [
    "%%showast\n",
    "def add(x, y):\n",
    "    return x + y"
   ]
  },
  {
   "cell_type": "markdown",
   "metadata": {},
   "source": [
    "## Showing the `uparse`d Source together with Location"
   ]
  },
  {
   "cell_type": "code",
   "execution_count": null,
   "metadata": {},
   "outputs": [],
   "source": [
    "Settings.update(omit_location_info=False, omit_source=False)\n",
    "\n",
    "def add(x, y):\n",
    "    return x + y\n",
    "\n",
    "show_source(add)"
   ]
  }
 ],
 "metadata": {
  "kernelspec": {
   "display_name": "Python 3.10.4 ('venv': venv)",
   "language": "python",
   "name": "python3"
  },
  "language_info": {
   "codemirror_mode": {
    "name": "ipython",
    "version": 3
   },
   "file_extension": ".py",
   "mimetype": "text/x-python",
   "name": "python",
   "nbconvert_exporter": "python",
   "pygments_lexer": "ipython3",
   "version": "3.10.4"
  },
  "vscode": {
   "interpreter": {
    "hash": "99fc209ea74a231be1a434501188559ec375eca8f0aafbf3f436f9c3e814cc7c"
   }
  }
 },
 "nbformat": 4,
 "nbformat_minor": 0
}
